{
 "cells": [
  {
   "cell_type": "markdown",
   "metadata": {},
   "source": [
    "### Packages"
   ]
  },
  {
   "cell_type": "code",
   "execution_count": 39,
   "metadata": {},
   "outputs": [],
   "source": [
    "# !pip install langchain langchain_community langchain_openai pymupdf chromadb tiktoken"
   ]
  },
  {
   "cell_type": "markdown",
   "metadata": {},
   "source": [
    "### Imports\n",
    "Note: langchain_community chat models are deprecated. Use the `langchain_openai` library istead. I'm still using `langchain_community.chat_models.ChatOpenAI` because of a corruption in my `langchain_openai` library."
   ]
  },
  {
   "cell_type": "code",
   "execution_count": 40,
   "metadata": {},
   "outputs": [],
   "source": [
    "from langchain_community.document_loaders import PyMuPDFLoader\n",
    "from langchain_community.embeddings import OllamaEmbeddings\n",
    "from langchain_text_splitters import RecursiveCharacterTextSplitter\n",
    "from langchain_community.vectorstores import Chroma\n",
    "from langchain_community.chat_models import ChatOpenAI #Deprecated\n",
    "# from langchain_openai import ChatOpenAI\n",
    "from langchain.chains.combine_documents import create_stuff_documents_chain\n",
    "from langchain.prompts import ChatPromptTemplate, PromptTemplate\n",
    "from langchain.chains import create_retrieval_chain\n",
    "import tiktoken\n",
    "from IPython.display import display, Markdown"
   ]
  },
  {
   "cell_type": "markdown",
   "metadata": {},
   "source": [
    "### Load documents"
   ]
  },
  {
   "cell_type": "code",
   "execution_count": 41,
   "metadata": {},
   "outputs": [
    {
     "data": {
      "text/plain": [
       "Document(metadata={'source': 'docs/fpc-manual.pdf', 'file_path': 'docs/fpc-manual.pdf', 'page': 0, 'total_pages': 94, 'format': 'PDF 1.6', 'title': 'FOR BIND Food Protect Manual rev6 14_Conv-Sig', 'author': 'Hizzoner', 'subject': '', 'keywords': '', 'creator': 'QuarkXPress 8.5', 'producer': 'Acrobat Distiller 8.0.0 (Macintosh)', 'creationDate': \"D:20140624124242-04'00'\", 'modDate': \"D:20151112105727-05'00'\", 'trapped': ''}, page_content='The Health Code\\nThese are regulations that were\\nformulated to allow the  Department\\nto effectively protect the health of the\\npopulation. Among the rules\\nembodied in the Health Code is\\nArticle 81 which regulates the oper-\\nations of food establishments for\\nthe purpose of preventing public\\nhealth hazards.\\nEnvironmental Health Division \\nThe Division of Environmental\\nHealth is the Commission within the\\nHealth Department that is concerned\\nwith public health and works to\\neliminate the incidence of injury and\\nillness caused by environmental factors.\\nThere are several Offices and\\nBureaus within this division. One\\nof these is the Bureau of Food\\nSafety and Community Sanitation\\nthat has the responsibility for con-\\nducting inspections of food service\\nand food processing establishments.\\nThese inspections are performed by\\nPublic Health Sanitarians.\\nAnti-corruption Warning\\nAll Sanitarians have Department\\nof Health and Mental Hygiene\\nbadges and identification cards\\nwhich they must display whenever\\nit is requested of them.\\nIt is illegal to offer a Sanitarian\\nany bribe, gratuity or reward for\\nofficial misconduct; this is a crime\\nthat can result in fines, and /or\\nimprisonment, and the revocation\\nof permits. Also, Sanitarians are not\\nauthorized to conduct any monetary\\ntransactions on behalf of the\\nDepartment.\\nInspector General\\nThis is an office that exists within\\nthe Health Department with the\\nresponsibility of investigating any\\nincidence of alleged corrupt activity.\\nInvestigations may be conducted as\\na result of complaints by employees\\nof the Department or members of\\nthe public.\\nHealth Academy\\nThe Health Academy is an office\\nwithin the Division of Environmental\\nHealth. One of its responsibilities is\\nto provide training and certification\\ncourses for individuals from the public\\nas mandated by the Health Code.\\nThe Food Protection Course is one\\nof the courses taught here. The Food\\nProtection Course is required by the\\nHealth Code for supervisors of food\\nservice establishments and non-retail\\nfood processing establishments. These\\nindividuals must take the course and\\npass an examination before a certifi-\\ncate is issued to them. A person\\nholding such a certificate must be on\\nthe premises and supervise all food\\npreparation activities during all hours\\nof operation. Several supervisors with\\nthis certification may be needed at an\\nestablishment to have coverage dur-\\ning all shifts, vacations or illnesses.\\nThe Food Protection Manual has\\nbeen designed to assist participants\\nof the course to better understand\\nthe principles of safe food handling.\\nIt serves as a reference for food ser-\\nvice operators and it includes the\\nnecessary information to pass the\\nfinal examination.\\nOn-Line Food Protection Course\\nThe Food Protection Course in\\nEnglish, Spanish and Chinese is\\nnow also available on-line. This\\ncourse is designed for individuals with\\nbusy schedules to study at their con-\\nvenience. After the completion of\\nthe course, a final examination is\\nscheduled at the Health Academy.\\nRegistration is done on-line. The\\nlink is: nyc.gov/foodprotectioncourse\\nRegister for Health Academy\\nClasses On-Line\\nYou may now register and pay\\nonline for courses offered at the\\nDepartment of Health and Mental\\nHygiene’s Health Academy, includ-\\ning the Food Protection Course for\\nrestaurants. This new service allows\\nyou to avoid going to the Citywide\\nLicensing Center to register for a\\ncourse. You may also use the on-line\\nservice to pay for and request an\\nappointment to replace your Food\\nProtection Certificate.\\nHow does it work?\\nGo to the registration web page,\\nnyc.gov/healthacademy, select a\\ncourse and date, pay the appropriate\\nfee and receive confirmation. \\nYou will be asked to provide some\\npersonal information before regis-\\ntering. In most cases, you will be\\nable to select from a list of course\\ndates. If you don’t see a date that is\\nconvenient, check back as new\\ncourse dates are added frequently.\\n1\\nfo d\\nP R O T E C T I O N  T R A I N I N G  M A N U A L\\nN E W  Y O R K  C I T Y  D E P A R T M E N T  O F  H E A L T H  &  M E N T A L  H Y G I E N E\\nINTRODUCTION\\nT\\nhe New York City Department of Health and Mental\\nHygiene has the jurisdiction to regulate all matters\\naffecting health in the city and to perform all those\\nfunctions and operations that relate to the health of the people\\nof the city.\\nINTRODUCTION\\n')"
      ]
     },
     "execution_count": 41,
     "metadata": {},
     "output_type": "execute_result"
    }
   ],
   "source": [
    "local_path = \"docs/fpc-manual.pdf\"\n",
    "\n",
    "# Local PDF file uploads\n",
    "if local_path:\n",
    "    loader = PyMuPDFLoader(local_path)\n",
    "    data = loader.load()\n",
    "else:\n",
    "    print(\"Upload a PDF file\")\n",
    "\n",
    "# Preview 1st page\n",
    "data[0]"
   ]
  },
  {
   "cell_type": "markdown",
   "metadata": {},
   "source": [
    "### Split documents into small chunks to be store in the vector store"
   ]
  },
  {
   "cell_type": "code",
   "execution_count": 42,
   "metadata": {},
   "outputs": [],
   "source": [
    "text_splitter = RecursiveCharacterTextSplitter(chunk_size=1500, chunk_overlap=50)\n",
    "chunks = text_splitter.split_documents(data)"
   ]
  },
  {
   "cell_type": "code",
   "execution_count": 43,
   "metadata": {},
   "outputs": [
    {
     "data": {
      "text/plain": [
       "Document(metadata={'source': 'docs/fpc-manual.pdf', 'file_path': 'docs/fpc-manual.pdf', 'page': 0, 'total_pages': 94, 'format': 'PDF 1.6', 'title': 'FOR BIND Food Protect Manual rev6 14_Conv-Sig', 'author': 'Hizzoner', 'subject': '', 'keywords': '', 'creator': 'QuarkXPress 8.5', 'producer': 'Acrobat Distiller 8.0.0 (Macintosh)', 'creationDate': \"D:20140624124242-04'00'\", 'modDate': \"D:20151112105727-05'00'\", 'trapped': ''}, page_content='The Health Code\\nThese are regulations that were\\nformulated to allow the  Department\\nto effectively protect the health of the\\npopulation. Among the rules\\nembodied in the Health Code is\\nArticle 81 which regulates the oper-\\nations of food establishments for\\nthe purpose of preventing public\\nhealth hazards.\\nEnvironmental Health Division \\nThe Division of Environmental\\nHealth is the Commission within the\\nHealth Department that is concerned\\nwith public health and works to\\neliminate the incidence of injury and\\nillness caused by environmental factors.\\nThere are several Offices and\\nBureaus within this division. One\\nof these is the Bureau of Food\\nSafety and Community Sanitation\\nthat has the responsibility for con-\\nducting inspections of food service\\nand food processing establishments.\\nThese inspections are performed by\\nPublic Health Sanitarians.\\nAnti-corruption Warning\\nAll Sanitarians have Department\\nof Health and Mental Hygiene\\nbadges and identification cards\\nwhich they must display whenever\\nit is requested of them.\\nIt is illegal to offer a Sanitarian\\nany bribe, gratuity or reward for\\nofficial misconduct; this is a crime\\nthat can result in fines, and /or\\nimprisonment, and the revocation\\nof permits. Also, Sanitarians are not\\nauthorized to conduct any monetary\\ntransactions on behalf of the\\nDepartment.\\nInspector General\\nThis is an office that exists within\\nthe Health Department with the\\nresponsibility of investigating any\\nincidence of alleged corrupt activity.')"
      ]
     },
     "execution_count": 43,
     "metadata": {},
     "output_type": "execute_result"
    }
   ],
   "source": [
    "# View the 1st chunk\n",
    "chunks[0]"
   ]
  },
  {
   "cell_type": "markdown",
   "metadata": {},
   "source": [
    "### Store chunk embeddings into Chroma vector store"
   ]
  },
  {
   "cell_type": "code",
   "execution_count": 44,
   "metadata": {},
   "outputs": [
    {
     "name": "stderr",
     "output_type": "stream",
     "text": [
      "OllamaEmbeddings: 100%|██████████| 253/253 [00:14<00:00, 17.70it/s]\n"
     ]
    }
   ],
   "source": [
    "embedding_model = \"nomic-embed-text\"\n",
    "collection = \"localbot-rag\"\n",
    "\n",
    "vector_db = Chroma.from_documents(\n",
    "    documents=chunks, \n",
    "    embedding=OllamaEmbeddings(model=embedding_model,show_progress=True),\n",
    "    collection_name=collection\n",
    ")"
   ]
  },
  {
   "cell_type": "markdown",
   "metadata": {},
   "source": [
    "### Create a retriever to fetch contextually pertinent data from ChromaDB"
   ]
  },
  {
   "cell_type": "code",
   "execution_count": 45,
   "metadata": {},
   "outputs": [],
   "source": [
    "retriever = vector_db.as_retriever()"
   ]
  },
  {
   "cell_type": "markdown",
   "metadata": {},
   "source": [
    "### Create a local chatbot based on Llama 3.1 8B running locally\n",
    "\n",
    "The following code assumes that Ollama is up and running a local Llama 3.1 8B model.\n",
    "\n",
    "Create a LangChain ChatOpenAI instance with your own local Llama 3.1 model. The 8b version runs pretty well on a decent personal computer. For a modest computer, pull and use a smaller model like [gemma 2 2B](https://ollama.com/library/gemma2).<br>\n",
    "You can still use a closed OpenAI GPT-X model if you want. In that case, use your API key and do not provide a base URL."
   ]
  },
  {
   "cell_type": "code",
   "execution_count": 46,
   "metadata": {},
   "outputs": [],
   "source": [
    "local_model = \"llama3.1:8b\"\n",
    "# local_model = \"gemma2:2b\"\n",
    "llm = ChatOpenAI(\n",
    "    model=local_model,\n",
    "    temperature=0,\n",
    "    base_url=\"http://localhost:11434/v1\",\n",
    "    api_key=\"NA\"\n",
    ")\n",
    "\n",
    "prompt_template = \"\"\"\n",
    "You are an assistant for question-answering tasks.\n",
    "Use the following context to answer the question.\n",
    "If you don't know the answer, say that you don't know.\n",
    "\n",
    "<context>\n",
    "    {context}\n",
    "</context>\n",
    "\n",
    "Question: {input}\n",
    "\"\"\"\n",
    "\n",
    "prompt = ChatPromptTemplate.from_template(prompt_template)\n",
    "\n",
    "# Create a retrieval chat chain \n",
    "doc_chain = create_stuff_documents_chain(llm, prompt)\n",
    "retrieval_chain = create_retrieval_chain(retriever, doc_chain)"
   ]
  },
  {
   "cell_type": "markdown",
   "metadata": {},
   "source": [
    "### Question answering and token usage"
   ]
  },
  {
   "cell_type": "markdown",
   "metadata": {},
   "source": [
    "#### functions to estimate token usage\n",
    "Tiktoken is a library designed to break down text into tokens. It can encode text strings into tokens, and can be used to estimate the cost of API calls when the encoding name for the model is known. It is specialized for OpenAI language models like GPT-3.\n",
    "Even though we are using Llama 3.1, tiktoken can still give a rough estimate of token usage."
   ]
  },
  {
   "cell_type": "code",
   "execution_count": 47,
   "metadata": {},
   "outputs": [],
   "source": [
    "def estimate_tokens(text):\n",
    "  encoding = tiktoken.encoding_for_model(\"gpt-3.5-turbo\")  # Replace with your OpenAI LLM's encoding\n",
    "  return len(encoding.encode(text))\n",
    "  \n",
    "def token_usage(query, response):\n",
    "    \"\"\"\n",
    "    Estimates the token usage for a given query and its response.\n",
    "    Args:\n",
    "        query (str): The original query.\n",
    "        response (dict): A dictionary containing the response and context information.\n",
    "    Returns:\n",
    "        None: Prints the token counts to the console.\n",
    "    \"\"\"\n",
    "    \n",
    "    # Count prompt tokens: query tokens + tokens of the context retrieved from ChomaDB\n",
    "    query_tokens = estimate_tokens(query)\n",
    "\n",
    "    context = \"\\n\".join([document.page_content for document in response['context']])\n",
    "    context_tokens = estimate_tokens(context)\n",
    "\n",
    "    prompt_tokens = query_tokens + context_tokens\n",
    "    \n",
    "    # Count response tokens\n",
    "    response_tokens = estimate_tokens(response['answer'])\n",
    "\n",
    "    print(f\"Prompt Tokens: {prompt_tokens}\")\n",
    "    print(f\"Completion Tokens: {response_tokens}\")\n",
    "    print(f\"Total Tokens: {prompt_tokens + response_tokens}\")"
   ]
  },
  {
   "cell_type": "markdown",
   "metadata": {},
   "source": [
    "#### Query 1: Getting the minimum safe cooking temperature for chicken"
   ]
  },
  {
   "cell_type": "code",
   "execution_count": 48,
   "metadata": {},
   "outputs": [
    {
     "name": "stderr",
     "output_type": "stream",
     "text": [
      "OllamaEmbeddings: 100%|██████████| 1/1 [00:00<00:00, 43.81it/s]\n"
     ]
    },
    {
     "data": {
      "text/markdown": [
       "According to the context, the minimum safe cooking temperature for poultry (which includes chicken) is 165°F (for 15 seconds)."
      ],
      "text/plain": [
       "<IPython.core.display.Markdown object>"
      ]
     },
     "metadata": {},
     "output_type": "display_data"
    },
    {
     "name": "stdout",
     "output_type": "stream",
     "text": [
      "Prompt Tokens: 1402\n",
      "Completion Tokens: 27\n",
      "Total Tokens: 1429\n"
     ]
    }
   ],
   "source": [
    "\n",
    "user_query = \"What is the minimum safe cooking temperature for chicken?\"\n",
    "\n",
    "response = retrieval_chain.invoke({\"input\": user_query})\n",
    "\n",
    "display(Markdown(response['answer']))\n",
    "\n",
    "token_usage(user_query, response)\n"
   ]
  },
  {
   "cell_type": "markdown",
   "metadata": {},
   "source": [
    "#### Query 2: FIFO in food safety"
   ]
  },
  {
   "cell_type": "code",
   "execution_count": 49,
   "metadata": {},
   "outputs": [
    {
     "name": "stderr",
     "output_type": "stream",
     "text": [
      "OllamaEmbeddings: 100%|██████████| 1/1 [00:00<00:00, 20.94it/s]\n"
     ]
    },
    {
     "data": {
      "text/markdown": [
       "The acronym FIFO means \"First In First Out\", which is a method of stock rotation that prevents waste of food products and ensures quality by moving the oldest stock to the front and the newly received stock to the back."
      ],
      "text/plain": [
       "<IPython.core.display.Markdown object>"
      ]
     },
     "metadata": {},
     "output_type": "display_data"
    },
    {
     "name": "stdout",
     "output_type": "stream",
     "text": [
      "Prompt Tokens: 1426\n",
      "Completion Tokens: 43\n",
      "Total Tokens: 1469\n"
     ]
    }
   ],
   "source": [
    "user_query = \"What is FIFO in food safety?\"\n",
    "\n",
    "response = retrieval_chain.invoke({\"input\": user_query})\n",
    "\n",
    "display(Markdown(response['answer']))\n",
    "\n",
    "token_usage(user_query, response)\n"
   ]
  },
  {
   "cell_type": "markdown",
   "metadata": {},
   "source": [
    "#### Query 3: Summarization"
   ]
  },
  {
   "cell_type": "code",
   "execution_count": 50,
   "metadata": {},
   "outputs": [
    {
     "name": "stderr",
     "output_type": "stream",
     "text": [
      "OllamaEmbeddings: 100%|██████████| 1/1 [00:00<00:00, 30.00it/s]\n"
     ]
    },
    {
     "data": {
      "text/markdown": [
       "The document appears to be a guide for food establishments in New York City, specifically regarding foodborne illnesses. It mentions that certain menu items can only be listed on a menu or menu board for less than 30 days in a calendar year.\n",
       "\n",
       "It then describes a common foodborne illness with the following characteristics:\n",
       "\n",
       "* Onset time: 1-7 days\n",
       "* Type of illness: Infection\n",
       "* Symptoms: Abdominal pain, diarrhea (bloody stools), and fever\n",
       "\n",
       "The document provides control measures to prevent this illness, which include:\n",
       "\n",
       "* Practicing good personal hygiene, especially hand washing after using the toilet\n",
       "* Avoiding bare hands contact with ready-to-eat foods\n",
       "* Cooling foods rapidly to 41°F or below\n",
       "* Avoiding cross contamination\n",
       "* Eliminating flies from the facility\n",
       "* Cleaning and sanitizing all surfaces\n",
       "\n",
       "Overall, the document aims to educate food establishments on how to prevent and control common foodborne illnesses."
      ],
      "text/plain": [
       "<IPython.core.display.Markdown object>"
      ]
     },
     "metadata": {},
     "output_type": "display_data"
    },
    {
     "name": "stdout",
     "output_type": "stream",
     "text": [
      "Prompt Tokens: 336\n",
      "Completion Tokens: 191\n",
      "Total Tokens: 527\n"
     ]
    }
   ],
   "source": [
    "user_query = \"Summarize the document in context\"\n",
    "\n",
    "response = retrieval_chain.invoke({\"input\": user_query})\n",
    "\n",
    "display(Markdown(response['answer']))\n",
    "\n",
    "token_usage(user_query, response)\n"
   ]
  },
  {
   "cell_type": "code",
   "execution_count": null,
   "metadata": {},
   "outputs": [],
   "source": []
  }
 ],
 "metadata": {
  "kernelspec": {
   "display_name": "Python 3.9.13 ('langchainrag': venv)",
   "language": "python",
   "name": "python3"
  },
  "language_info": {
   "codemirror_mode": {
    "name": "ipython",
    "version": 3
   },
   "file_extension": ".py",
   "mimetype": "text/x-python",
   "name": "python",
   "nbconvert_exporter": "python",
   "pygments_lexer": "ipython3",
   "version": "3.9.13"
  },
  "orig_nbformat": 4,
  "vscode": {
   "interpreter": {
    "hash": "becb5b38aa95b2cc6f9454cbe82d0a5b98eb61701bb23cd5db899bc573a93ba4"
   }
  }
 },
 "nbformat": 4,
 "nbformat_minor": 2
}
