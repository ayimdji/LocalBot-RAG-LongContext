{
 "cells": [
  {
   "cell_type": "markdown",
   "metadata": {},
   "source": [
    "### Packages"
   ]
  },
  {
   "cell_type": "code",
   "execution_count": 17,
   "metadata": {},
   "outputs": [],
   "source": [
    "# !pip install langchain langchain_community langchain_openai pymupdf chromadb tiktoken"
   ]
  },
  {
   "cell_type": "markdown",
   "metadata": {},
   "source": [
    "### Imports\n",
    "Note: langchain_community chat models are deprecated. Use the `langchain_openai` library istead. I'm still using `langchain_community.chat_models.ChatOpenAI` because of a corruption in my `langchain_openai` library."
   ]
  },
  {
   "cell_type": "code",
   "execution_count": 18,
   "metadata": {},
   "outputs": [],
   "source": [
    "from langchain_community.document_loaders import PyMuPDFLoader\n",
    "from langchain_community.embeddings import OllamaEmbeddings\n",
    "from langchain_community.chat_models import ChatOpenAI #Deprecated\n",
    "# from langchain_openai import ChatOpenAI\n",
    "from langchain.prompts import ChatPromptTemplate, PromptTemplate\n",
    "import tiktoken\n",
    "from IPython.display import display, Markdown"
   ]
  },
  {
   "cell_type": "markdown",
   "metadata": {},
   "source": [
    "### Load documents"
   ]
  },
  {
   "cell_type": "code",
   "execution_count": 19,
   "metadata": {},
   "outputs": [],
   "source": [
    "local_path = \"docs/fpc-manual.pdf\"\n",
    "\n",
    "# Local PDF file uploads\n",
    "if local_path:\n",
    "    loader = PyMuPDFLoader(local_path)\n",
    "    data = loader.load()\n",
    "else:\n",
    "    print(\"Upload a PDF file\")"
   ]
  },
  {
   "cell_type": "code",
   "execution_count": 20,
   "metadata": {},
   "outputs": [
    {
     "data": {
      "text/plain": [
       "Document(metadata={'source': 'docs/fpc-manual.pdf', 'file_path': 'docs/fpc-manual.pdf', 'page': 0, 'total_pages': 94, 'format': 'PDF 1.6', 'title': 'FOR BIND Food Protect Manual rev6 14_Conv-Sig', 'author': 'Hizzoner', 'subject': '', 'keywords': '', 'creator': 'QuarkXPress 8.5', 'producer': 'Acrobat Distiller 8.0.0 (Macintosh)', 'creationDate': \"D:20140624124242-04'00'\", 'modDate': \"D:20151112105727-05'00'\", 'trapped': ''}, page_content='The Health Code\\nThese are regulations that were\\nformulated to allow the  Department\\nto effectively protect the health of the\\npopulation. Among the rules\\nembodied in the Health Code is\\nArticle 81 which regulates the oper-\\nations of food establishments for\\nthe purpose of preventing public\\nhealth hazards.\\nEnvironmental Health Division \\nThe Division of Environmental\\nHealth is the Commission within the\\nHealth Department that is concerned\\nwith public health and works to\\neliminate the incidence of injury and\\nillness caused by environmental factors.\\nThere are several Offices and\\nBureaus within this division. One\\nof these is the Bureau of Food\\nSafety and Community Sanitation\\nthat has the responsibility for con-\\nducting inspections of food service\\nand food processing establishments.\\nThese inspections are performed by\\nPublic Health Sanitarians.\\nAnti-corruption Warning\\nAll Sanitarians have Department\\nof Health and Mental Hygiene\\nbadges and identification cards\\nwhich they must display whenever\\nit is requested of them.\\nIt is illegal to offer a Sanitarian\\nany bribe, gratuity or reward for\\nofficial misconduct; this is a crime\\nthat can result in fines, and /or\\nimprisonment, and the revocation\\nof permits. Also, Sanitarians are not\\nauthorized to conduct any monetary\\ntransactions on behalf of the\\nDepartment.\\nInspector General\\nThis is an office that exists within\\nthe Health Department with the\\nresponsibility of investigating any\\nincidence of alleged corrupt activity.\\nInvestigations may be conducted as\\na result of complaints by employees\\nof the Department or members of\\nthe public.\\nHealth Academy\\nThe Health Academy is an office\\nwithin the Division of Environmental\\nHealth. One of its responsibilities is\\nto provide training and certification\\ncourses for individuals from the public\\nas mandated by the Health Code.\\nThe Food Protection Course is one\\nof the courses taught here. The Food\\nProtection Course is required by the\\nHealth Code for supervisors of food\\nservice establishments and non-retail\\nfood processing establishments. These\\nindividuals must take the course and\\npass an examination before a certifi-\\ncate is issued to them. A person\\nholding such a certificate must be on\\nthe premises and supervise all food\\npreparation activities during all hours\\nof operation. Several supervisors with\\nthis certification may be needed at an\\nestablishment to have coverage dur-\\ning all shifts, vacations or illnesses.\\nThe Food Protection Manual has\\nbeen designed to assist participants\\nof the course to better understand\\nthe principles of safe food handling.\\nIt serves as a reference for food ser-\\nvice operators and it includes the\\nnecessary information to pass the\\nfinal examination.\\nOn-Line Food Protection Course\\nThe Food Protection Course in\\nEnglish, Spanish and Chinese is\\nnow also available on-line. This\\ncourse is designed for individuals with\\nbusy schedules to study at their con-\\nvenience. After the completion of\\nthe course, a final examination is\\nscheduled at the Health Academy.\\nRegistration is done on-line. The\\nlink is: nyc.gov/foodprotectioncourse\\nRegister for Health Academy\\nClasses On-Line\\nYou may now register and pay\\nonline for courses offered at the\\nDepartment of Health and Mental\\nHygiene’s Health Academy, includ-\\ning the Food Protection Course for\\nrestaurants. This new service allows\\nyou to avoid going to the Citywide\\nLicensing Center to register for a\\ncourse. You may also use the on-line\\nservice to pay for and request an\\nappointment to replace your Food\\nProtection Certificate.\\nHow does it work?\\nGo to the registration web page,\\nnyc.gov/healthacademy, select a\\ncourse and date, pay the appropriate\\nfee and receive confirmation. \\nYou will be asked to provide some\\npersonal information before regis-\\ntering. In most cases, you will be\\nable to select from a list of course\\ndates. If you don’t see a date that is\\nconvenient, check back as new\\ncourse dates are added frequently.\\n1\\nfo d\\nP R O T E C T I O N  T R A I N I N G  M A N U A L\\nN E W  Y O R K  C I T Y  D E P A R T M E N T  O F  H E A L T H  &  M E N T A L  H Y G I E N E\\nINTRODUCTION\\nT\\nhe New York City Department of Health and Mental\\nHygiene has the jurisdiction to regulate all matters\\naffecting health in the city and to perform all those\\nfunctions and operations that relate to the health of the people\\nof the city.\\nINTRODUCTION\\n')"
      ]
     },
     "execution_count": 20,
     "metadata": {},
     "output_type": "execute_result"
    }
   ],
   "source": [
    "# Preview 1st page\n",
    "data[0]"
   ]
  },
  {
   "cell_type": "markdown",
   "metadata": {},
   "source": [
    "### Covert the whole document into a single text\n",
    "We will leverage long context to feed the llm with the whole document as a context along user query"
   ]
  },
  {
   "cell_type": "code",
   "execution_count": 21,
   "metadata": {},
   "outputs": [],
   "source": [
    "document_text = \"\\n\".join([document.page_content for document in data])"
   ]
  },
  {
   "cell_type": "code",
   "execution_count": 22,
   "metadata": {},
   "outputs": [
    {
     "data": {
      "text/plain": [
       "'The Health Code\\nThese are regulations that were\\nformulated to allow the  Department\\nto effectively protect the health of the\\npopulation. Among the rules\\nembodied in the Health Code is\\nArticle 81 which regulates the oper-\\nations of food establishments for\\nthe purpose of preventing public\\nhealth hazards.\\nEnvironmental Health Division \\nThe Division of Environmental\\nHealth is the Commission within the\\nHealth Department that is concerned\\nwith public health and works to\\neliminate the incidence of injury and\\nillness caused by environmental factors.\\nThere are several Offices and\\nBureaus within this division. One\\nof these is the Bureau of Food\\nSafety and Community Sanitation\\nthat has the responsibility for con-\\nducting inspections of food service\\nand food processing establishments.\\nThese inspections are performed by\\nPublic Health Sanitarians.\\nAnti-corruption Warning\\nAll Sanitarians have Department\\nof Health and Mental Hygiene\\nbadges and identification cards\\nwhich they must display whenever\\nit is requested of them.\\nIt is illegal to offer a Sanitarian\\nany bribe, gratuity or reward for\\nofficial misconduct; this is a crime\\nthat can result in fines, and /or\\nimprisonment, and the revocation\\nof permits. Also, Sanitarians are not\\nauthorized to conduct any monetary\\ntransactions on behalf of the\\nDepartment.\\nInspector General\\nThis is an office that exists within\\nthe Health Department with the\\nresponsibility of investigating any\\nincidence of alleged corrupt activity.\\nInvestigations may be conduct'"
      ]
     },
     "execution_count": 22,
     "metadata": {},
     "output_type": "execute_result"
    }
   ],
   "source": [
    "# View the 1500 first characters\n",
    "document_text[:1500]"
   ]
  },
  {
   "cell_type": "markdown",
   "metadata": {},
   "source": [
    "### Create a local chatbot based on Llama 3.1 8B running locally\n",
    "\n",
    "The following code assumes that Ollama is up and running a local Llama 3.1 8B model.\n",
    "\n",
    "Create a LangChain ChatOpenAI instance with your own local Llama 3.1 model. The 8b version runs pretty well on a decent personal computer. For a modest computer, pull and use a smaller model like [gemma 2 2B](https://ollama.com/library/gemma2).<br>\n",
    "You can still use a closed OpenAI GPT-X model if you want. In that case, use your API key and do not provide a base URL."
   ]
  },
  {
   "cell_type": "code",
   "execution_count": 23,
   "metadata": {},
   "outputs": [],
   "source": [
    "local_model = \"llama3.1:8b\"\n",
    "# local_model = \"gemma2:2b\"\n",
    "\n",
    "llm = ChatOpenAI(\n",
    "    model=local_model,\n",
    "    temperature=0,\n",
    "    base_url=\"http://localhost:11434/v1\",\n",
    "    api_key=\"NA\"\n",
    ")\n",
    "\n",
    "prompt_template = \"\"\"\n",
    "You are an assistant for question-answering tasks.\n",
    "Use the following context to answer the question.\n",
    "If you don't know the answer, say that you don't know.\n",
    "\n",
    "<context>\n",
    "    {context}\n",
    "</context>\n",
    "\n",
    "Question: {input}\n",
    "\"\"\"\n",
    "\n",
    "prompt = ChatPromptTemplate.from_template(prompt_template)"
   ]
  },
  {
   "cell_type": "markdown",
   "metadata": {},
   "source": [
    "### Question answering and token usage"
   ]
  },
  {
   "cell_type": "markdown",
   "metadata": {},
   "source": [
    "#### functions to estimate token usage\n",
    "Tiktoken is a library designed to break down text into tokens. It can encode text strings into tokens, and can be used to estimate the cost of API calls when the encoding name for the model is known. It is specialized for OpenAI language models like GPT-3.\n",
    "Even though we are using Llama 3.1, tiktoken can still give a rough estimate of token usage."
   ]
  },
  {
   "cell_type": "code",
   "execution_count": 24,
   "metadata": {},
   "outputs": [],
   "source": [
    "def estimate_tokens(text):\n",
    "  encoding = tiktoken.encoding_for_model(\"gpt-3.5-turbo\")  # Replace with your OpenAI LLM's encoding\n",
    "  return len(encoding.encode(text))\n",
    "  \n",
    "def token_usage(formatted_prompt, ai_message):   \n",
    "    \"\"\"\n",
    "    Estimates the token usage for a given prompt and AI response.\n",
    "    Args:\n",
    "        formatted_prompt (str): The formatted prompt sent to the AI.\n",
    "        ai_message (object): An object containing the AI's response, with a 'content' attribute.\n",
    "    Returns:\n",
    "        None: Prints the token counts to the console. \n",
    "    \"\"\"\n",
    "\n",
    "    prompt_tokens = estimate_tokens(formatted_prompt)\n",
    "\n",
    "    response_tokens = estimate_tokens(ai_message.content)\n",
    "\n",
    "    print(f\"Prompt Tokens: {prompt_tokens}\")\n",
    "    print(f\"Completion Tokens: {response_tokens}\")\n",
    "    print(f\"Total Tokens: {prompt_tokens + response_tokens}\")"
   ]
  },
  {
   "cell_type": "markdown",
   "metadata": {},
   "source": [
    "#### Query 1: Getting the minimum safe cooking temperature for chicken"
   ]
  },
  {
   "cell_type": "code",
   "execution_count": 25,
   "metadata": {},
   "outputs": [
    {
     "data": {
      "text/markdown": [
       "According to the provided text, there is no specific information about the minimum safe cooking temperature for chicken. However, it does mention that all foods should be kept at 140°F (60°C) or higher and that food temperatures should be checked with an accurate food thermometer.\n",
       "\n",
       "Typically, the recommended internal temperature for cooked chicken is 165°F (74°C). If you're looking for specific guidelines on cooking temperatures, I'd be happy to provide more general information."
      ],
      "text/plain": [
       "<IPython.core.display.Markdown object>"
      ]
     },
     "metadata": {},
     "output_type": "display_data"
    },
    {
     "name": "stdout",
     "output_type": "stream",
     "text": [
      "Prompt Tokens: 80184\n",
      "Completion Tokens: 93\n",
      "Total Tokens: 80277\n"
     ]
    }
   ],
   "source": [
    "\n",
    "user_query = \"What is the minimum safe cooking temperature for chicken?\"\n",
    "\n",
    "formatted_prompt = prompt.format(input=user_query, context=document_text)\n",
    "\n",
    "ai_message = llm.invoke(formatted_prompt)\n",
    "\n",
    "display(Markdown(ai_message.content))\n",
    "\n",
    "token_usage(formatted_prompt, ai_message)\n"
   ]
  },
  {
   "cell_type": "markdown",
   "metadata": {},
   "source": [
    "#### Query 2: FIFO in food safety"
   ]
  },
  {
   "cell_type": "code",
   "execution_count": 26,
   "metadata": {},
   "outputs": [
    {
     "data": {
      "text/markdown": [
       "In the context of food safety, FIFO stands for \"First In, First Out.\" This principle ensures that the oldest items in stock are used or sold before newer ones. This helps prevent older products from spoiling and being served to customers, which can lead to foodborne illnesses.\n",
       "\n",
       "FIFO is an important concept in food safety because it helps maintain the quality and safety of perishable foods by ensuring that they are consumed within a reasonable time frame after their production or receipt. By following FIFO, businesses can minimize the risk of serving spoiled or contaminated food to customers.\n",
       "\n",
       "In the provided text, the importance of maintaining high temperatures for hot holding foods is emphasized, but the concept of FIFO is not explicitly mentioned. However, it is implied in the instructions to \"Stir frequently to evenly distribute the temperature throughout the food\" and to \"Record temperatures,\" which suggests that the goal is to ensure that all food items are stored and served at a safe temperature, regardless of their age or date of receipt."
      ],
      "text/plain": [
       "<IPython.core.display.Markdown object>"
      ]
     },
     "metadata": {},
     "output_type": "display_data"
    },
    {
     "name": "stdout",
     "output_type": "stream",
     "text": [
      "Prompt Tokens: 80181\n",
      "Completion Tokens: 198\n",
      "Total Tokens: 80379\n"
     ]
    }
   ],
   "source": [
    "user_query = \"What is FIFO in food safety?\"\n",
    "\n",
    "formatted_prompt = prompt.format(input=user_query, context=document_text)\n",
    "\n",
    "ai_message = llm.invoke(formatted_prompt)\n",
    "\n",
    "display(Markdown(ai_message.content))\n",
    "\n",
    "token_usage(formatted_prompt, ai_message)\n",
    "\n"
   ]
  },
  {
   "cell_type": "markdown",
   "metadata": {},
   "source": [
    "#### Query 3: Summarization"
   ]
  },
  {
   "cell_type": "code",
   "execution_count": 27,
   "metadata": {},
   "outputs": [
    {
     "data": {
      "text/markdown": [
       "The document appears to be a manual for food safety and sanitation procedures, specifically for establishments in New York City. It covers various aspects of maintaining a clean and safe environment for food preparation and handling.\n",
       "\n",
       "Some key points from the document include:\n",
       "\n",
       "* Maintaining proper temperatures for hot holding foods (140°F or higher)\n",
       "* Using accurate thermometers to check food temperatures\n",
       "* Preheating equipment before adding food\n",
       "* Recording temperatures\n",
       "* Stirring frequently to evenly distribute temperature throughout food\n",
       "\n",
       "The manual also covers procedures for manual and mechanical dishwashing, including the use of sanitizing solutions and proper rinse temperatures.\n",
       "\n",
       "Additionally, the document discusses pest control measures, such as:\n",
       "\n",
       "* Eliminating holes, cracks, and crevices in food storage, preparation, and handling areas\n",
       "* Storing food in vermin-proof containers with tightly fitted lids\n",
       "* Using a licensed exterminator for any extermination done on the premises\n",
       "* Keeping outside areas of the establishment clean to discourage pests\n",
       "\n",
       "The document also includes a temperature log template for tracking temperatures.\n",
       "\n",
       "Overall, the manual provides guidelines for maintaining a safe and sanitary environment for food preparation and handling in New York City establishments."
      ],
      "text/plain": [
       "<IPython.core.display.Markdown object>"
      ]
     },
     "metadata": {},
     "output_type": "display_data"
    },
    {
     "name": "stdout",
     "output_type": "stream",
     "text": [
      "Prompt Tokens: 80182\n",
      "Completion Tokens: 231\n",
      "Total Tokens: 80413\n"
     ]
    }
   ],
   "source": [
    "user_query = \"Summarize the document in context\"\n",
    "\n",
    "formatted_prompt = prompt.format(input=user_query, context=document_text)\n",
    "\n",
    "ai_message = llm.invoke(formatted_prompt)\n",
    "\n",
    "display(Markdown(ai_message.content))\n",
    "\n",
    "token_usage(formatted_prompt, ai_message)\n",
    "\n"
   ]
  },
  {
   "cell_type": "code",
   "execution_count": null,
   "metadata": {},
   "outputs": [],
   "source": []
  }
 ],
 "metadata": {
  "kernelspec": {
   "display_name": "Python 3.9.13 ('langchainrag': venv)",
   "language": "python",
   "name": "python3"
  },
  "language_info": {
   "codemirror_mode": {
    "name": "ipython",
    "version": 3
   },
   "file_extension": ".py",
   "mimetype": "text/x-python",
   "name": "python",
   "nbconvert_exporter": "python",
   "pygments_lexer": "ipython3",
   "version": "3.9.13"
  },
  "orig_nbformat": 4,
  "vscode": {
   "interpreter": {
    "hash": "becb5b38aa95b2cc6f9454cbe82d0a5b98eb61701bb23cd5db899bc573a93ba4"
   }
  }
 },
 "nbformat": 4,
 "nbformat_minor": 2
}
